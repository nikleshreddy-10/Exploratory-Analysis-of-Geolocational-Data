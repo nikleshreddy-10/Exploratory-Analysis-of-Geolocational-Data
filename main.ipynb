{
 "cells": [
  {
   "cell_type": "code",
   "execution_count": null,
   "id": "d297f459",
   "metadata": {},
   "outputs": [],
   "source": [
    "import numpy as np\n",
    "from tabulate import tabulate\n",
    "import pandas as pd\n",
    "from sklearn.cluster import KMeans\n",
    "import seaborn as sns\n",
    "import matplotlib.pyplot as plt\n",
    "import warnings"
   ]
  },
  {
   "cell_type": "code",
   "execution_count": null,
   "id": "87bd15f4",
   "metadata": {},
   "outputs": [],
   "source": [
    "# Ignore warnings\n",
    "warnings.filterwarnings('ignore')"
   ]
  },
  {
   "cell_type": "code",
   "execution_count": null,
   "id": "2c21e963",
   "metadata": {},
   "outputs": [],
   "source": [
    "# Data cleaning and extracting relevant features\n",
    "df1 = pd.read_csv(\"Data/food_data.csv\")\n",
    "df = df1[[\"cook\", \"diet_current_coded\", \"eating_out\", \"sports\", \"exercise\", \"fav_cuisine_coded\", \n",
    "          \"on_off_campus\", \"pay_meal_out\", \"fav_food\", \"fruit_day\", \"income\"]]"
   ]
  },
  {
   "cell_type": "code",
   "execution_count": null,
   "id": "dcd19d70",
   "metadata": {},
   "outputs": [],
   "source": [
    "# Drop rows with missing values\n",
    "df.dropna(axis=0, inplace=True)"
   ]
  },
  {
   "cell_type": "code",
   "execution_count": null,
   "id": "b9819cb4",
   "metadata": {},
   "outputs": [],
   "source": [
    "# Save cleaned data to a new CSV file\n",
    "df.to_csv(\"Data/food_cleaned_data.csv\", index=False)"
   ]
  },
  {
   "cell_type": "code",
   "execution_count": null,
   "id": "3cdd3d80",
   "metadata": {},
   "outputs": [],
   "source": [
    "# Plotting Boxplot for cleaned data\n",
    "sns.boxplot(data=df, palette=\"Set1\")\n",
    "plt.xticks(rotation=45, ha='right')\n",
    "plt.title('Boxplot of Selected Features')\n",
    "plt.show()"
   ]
  },
  {
   "cell_type": "code",
   "execution_count": null,
   "id": "b13be851",
   "metadata": {},
   "outputs": [
   {
     "data": {
      "image/png": "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\n",
      "text/plain": [
       "<Figure size 432x288 with 1 Axes>"
      ]
     },
   ],
   "source": [
    "# K-Means clustering on cleaned data\n",
    "X = df.values  # Convert DataFrame to numpy array"
   ]
  },
  {
   "cell_type": "code",
   "execution_count": null,
   "id": "63885633",
   "metadata": {},
   "outputs": [],
   "source": [
    "max_k = 4\n",
    "distortions = []"
   ]
  },
  {
   "cell_type": "code",
   "execution_count": null,
   "id": "71b304f2",
   "metadata": {},
   "outputs": [],
   "source": [
    "# Calculate distortions for different values of k\n",
    "for i in range(1, max_k + 1):\n",
    "    if len(X) >= i:\n",
    "        model = KMeans(n_clusters=i, init='k-means++', max_iter=300, n_init=10, random_state=0)\n",
    "        model.fit(X)\n",
    "        distortions.append(model.inertia_)"
   ]
  },
  {
   "cell_type": "code",
   "execution_count": null,
   "id": "ed109709",
   "metadata": {},
   "outputs": [],
   "source": [
    "# Determine the best k using the \"elbow\" method\n",
    "if len(distortions) >= 3:\n",
    "    second_derivatives = np.diff(np.diff(distortions))\n",
    "    best_k_index = np.argmin(second_derivatives) + 2  # +2 due to diff reduction\n",
    "    best_k = best_k_index"
   ]
  },
  {
   "cell_type": "code",
   "execution_count": null,
   "id": "501fe813",
   "metadata": {},
   "outputs": [],
   "source": [
    "# Fit KMeans with the optimal number of clusters\n",
    "kmeans = KMeans(n_clusters=best_k, random_state=0).fit(X)\n",
    "df['Cluster'] = kmeans.labels_"
   ]
  },
  {
   "cell_type": "code",
   "execution_count": null,
   "id": "1c33ff93",
   "metadata": {},
   "outputs": [],
   "source": [
    "# Plotting Boxplots for each cluster\n",
    "fig, axes = plt.subplots(1, best_k, sharey=True, figsize=(12, 6))\n",
    "fig.suptitle('Boxplots of Clusters')"
   ]
  },
  {
   "cell_type": "code",
   "execution_count": null,
   "id": "06e2a022",
   "metadata": {},
   "outputs": [],
   "source": [
    "for i in range(best_k):\n",
    "    sns.boxplot(data=df[df['Cluster'] == i].drop('Cluster', axis=1), palette=\"Set1\", ax=axes[i])\n",
    "    axes[i].set_title(f'Cluster {i+1}')\n",
    "    axes[i].tick_params(axis='x', rotation=45, labelsize=8.7)\n",
    "    axes[i].set_ylabel('Coded Values')"
   ]
  },
  {
   "cell_type": "code",
   "execution_count": null,
   "id": "d4867d0b",
   "metadata": {},
   "outputs": [],
   "source": [
    "plt.tight_layout(rect=[0, 0, 1, 0.96])  # Adjust for suptitle\n",
    "plt.show()"
   ]
  }
 ],
 "metadata": {
  "jupytext": {
   "cell_metadata_filter": "-all",
   "main_language": "python",
   "notebook_metadata_filter": "-all"
  }
 },
 "nbformat": 4,
 "nbformat_minor": 5
}
