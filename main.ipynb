{
 "cells": [
  {
   "cell_type": "code",
   "execution_count": null,
   "id": "d297f459",
   "metadata": {},
   "outputs": [],
   "source": [
    "import numpy as np\n",
    "from tabulate import tabulate\n",
    "import pandas as pd\n",
    "from sklearn.cluster import KMeans\n",
    "import seaborn as sns\n",
    "import matplotlib.pyplot as plt\n",
    "import warnings"
   ]
  },
  {
   "cell_type": "code",
   "execution_count": null,
   "id": "87bd15f4",
   "metadata": {},
   "outputs": [],
   "source": [
    "# Ignore warnings\n",
    "warnings.filterwarnings('ignore')"
   ]
  },
  {
   "cell_type": "code",
   "execution_count": null,
   "id": "2c21e963",
   "metadata": {},
   "outputs": [],
   "source": [
    "# Data cleaning and extracting relevant features\n",
    "df1 = pd.read_csv(\"Data/food_data.csv\")\n",
    "df = df1[[\"cook\", \"diet_current_coded\", \"eating_out\", \"sports\", \"exercise\", \"fav_cuisine_coded\", \n",
    "          \"on_off_campus\", \"pay_meal_out\", \"fav_food\", \"fruit_day\", \"income\"]]"
   ]
  },
  {
   "cell_type": "code",
   "execution_count": null,
   "id": "dcd19d70",
   "metadata": {},
   "outputs": [],
   "source": [
    "# Drop rows with missing values\n",
    "df.dropna(axis=0, inplace=True)"
   ]
  },
  {
   "cell_type": "code",
   "execution_count": null,
   "id": "b9819cb4",
   "metadata": {},
   "outputs": [],
   "source": [
    "# Save cleaned data to a new CSV file\n",
    "df.to_csv(\"Data/food_cleaned_data.csv\", index=False)"
   ]
  },
  {
   "cell_type": "code",
   "execution_count": null,
   "id": "3cdd3d80",
   "metadata": {},
   "outputs": [],
   "source": [
    "# Plotting Boxplot for cleaned data\n",
    "sns.boxplot(data=df, palette=\"Set1\")\n",
    "plt.xticks(rotation=45, ha='right')\n",
    "plt.title('Boxplot of Selected Features')\n",
    "plt.show()"
   ]
  },
  {
   "cell_type": "code",
   "execution_count": null,
   "id": "b13be851",
   "metadata": {},
   "outputs": [],
   "source": [
    "# K-Means clustering on cleaned data\n",
    "X = df.values  # Convert DataFrame to numpy array"
   ]
  },
  {
   "cell_type": "code",
   "execution_count": null,
   "id": "63885633",
   "metadata": {},
   "outputs": [],
   "source": [
    "max_k = 4\n",
    "distortions = []"
   ]
  },
  {
   "cell_type": "code",
   "execution_count": null,
   "id": "71b304f2",
   "metadata": {},
   "outputs": [],
   "source": [
    "# Calculate distortions for different values of k\n",
    "for i in range(1, max_k + 1):\n",
    "    if len(X) >= i:\n",
    "        model = KMeans(n_clusters=i, init='k-means++', max_iter=300, n_init=10, random_state=0)\n",
    "        model.fit(X)\n",
    "        distortions.append(model.inertia_)"
   ]
  },
  {
   "cell_type": "code",
   "execution_count": null,
   "id": "ed109709",
   "metadata": {},
   "outputs": [],
   "source": [
    "# Determine the best k using the \"elbow\" method\n",
    "if len(distortions) >= 3:\n",
    "    second_derivatives = np.diff(np.diff(distortions))\n",
    "    best_k_index = np.argmin(second_derivatives) + 2  # +2 due to diff reduction\n",
    "    best_k = best_k_index"
   ]
  },
  {
   "cell_type": "code",
   "execution_count": null,
   "id": "501fe813",
   "metadata": {},
   "outputs": [],
   "source": [
    "# Fit KMeans with the optimal number of clusters\n",
    "kmeans = KMeans(n_clusters=best_k, random_state=0).fit(X)\n",
    "df['Cluster'] = kmeans.labels_"
   ]
  },
  {
   "cell_type": "code",
   "execution_count": null,
   "id": "1c33ff93",
   "metadata": {},
   "outputs": [],
   "source": [
    "# Plotting Boxplots for each cluster\n",
    "fig, axes = plt.subplots(1, best_k, sharey=True, figsize=(12, 6))\n",
    "fig.suptitle('Boxplots of Clusters')"
   ]
  },
  {
   "cell_type": "code",
   "execution_count": null,
   "id": "06e2a022",
   "metadata": {},
   "outputs": [],
   "source": [
    "for i in range(best_k):\n",
    "    sns.boxplot(data=df[df['Cluster'] == i].drop('Cluster', axis=1), palette=\"Set1\", ax=axes[i])\n",
    "    axes[i].set_title(f'Cluster {i+1}')\n",
    "    axes[i].tick_params(axis='x', rotation=45, labelsize=8.7)\n",
    "    axes[i].set_ylabel('Coded Values')"
   ]
  },
  {
   "cell_type": "code",
   "execution_count": null,
   "id": "d4867d0b",
   "metadata": {},
   "outputs": [],
   "source": [
    "plt.tight_layout(rect=[0, 0, 1, 0.96])  # Adjust for suptitle\n",
    "plt.show()"
   ]
  }
 ],
 "metadata": {
  "jupytext": {
   "cell_metadata_filter": "-all",
   "main_language": "python",
   "notebook_metadata_filter": "-all"
  }
 },
 "nbformat": 4,
 "nbformat_minor": 5
}
