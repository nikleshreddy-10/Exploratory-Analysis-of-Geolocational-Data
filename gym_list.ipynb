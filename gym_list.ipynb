{
 "cells": [
  {
   "cell_type": "code",
   "execution_count": null,
   "id": "413351ee",
   "metadata": {},
   "outputs": [],
   "source": [
    "import requests\n",
    "import pandas as pd"
   ]
  },
  {
   "cell_type": "code",
   "execution_count": null,
   "id": "0b338837",
   "metadata": {},
   "outputs": [],
   "source": [
    "df1 = pd.read_csv(\"apartment.csv\")\n",
    "df = df1[[\"lattitude\",\"longitude\"]]"
   ]
  },
  {
   "cell_type": "code",
   "execution_count": null,
   "id": "436d98de",
   "metadata": {},
   "outputs": [],
   "source": [
    "count=[]\n",
    "latitude=[]\n",
    "longitude=[]\n",
    "GymList=[]\n",
    "latitude_from_csv= list(df['lattitude'])\n",
    "longitude_from_csv= list( df['longitude'])"
   ]
  },
  {
   "cell_type": "code",
   "execution_count": null,
   "id": "1efb9289",
   "metadata": {},
   "outputs": [],
   "source": [
    "url = \"https://api.foursquare.com/v3/places/search\""
   ]
  },
  {
   "cell_type": "code",
   "execution_count": null,
   "id": "2e7aa85b",
   "metadata": {},
   "outputs": [],
   "source": [
    "headers = {\n",
    "    \"Accept\": \"application/json\",\n",
    "    \"Authorization\": \"YOUR FOURSQUARE API ID\"\n",
    "}"
   ]
  },
  {
   "cell_type": "code",
   "execution_count": null,
   "id": "0f6a554d",
   "metadata": {},
   "outputs": [],
   "source": [
    "for lat, lon in zip(latitude_from_csv, longitude_from_csv):\n",
    "    params = {\n",
    "    \"query\": \"gym\",\n",
    "    \"ll\": f\"{lat},{lon}\",\n",
    "    \"radius\": \"1000\",\n",
    "    \"v\": \"20240101\"\n",
    "    }\n",
    "\n",
    "    # Make the API request\n",
    "    response = requests.get(url, params=params, headers=headers)\n",
    "    values = response.json()\n",
    "    latitude.append(lat)\n",
    "    longitude.append(lon)\n",
    "    # Append the results to the list\n",
    "    for result in values.get('results', []):\n",
    "        GymList.append(result.get('name', 'Unknown'))\n",
    "    i=len(GymList)\n",
    "    count.append(i)\n",
    "    GymList=[]\n",
    "print(f\"Length Of lattitude :{len(latitude)}\")\n",
    "print(f\"Length Of longitude :{len(longitude)}\")\n",
    "print(f\"Length Of GymList :{len(count)}\")\n",
    "df0 = pd.read_csv('List.csv')\n",
    "df0['Gyms']=count\n",
    "df0.to_csv('API Data/List.csv', index=False)"
   ]
  }
 ],
 "metadata": {
  "jupytext": {
   "cell_metadata_filter": "-all",
   "main_language": "python",
   "notebook_metadata_filter": "-all"
  }
 },
 "nbformat": 4,
 "nbformat_minor": 5
}
