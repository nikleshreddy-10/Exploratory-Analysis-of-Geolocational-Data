{
 "cells": [
  {
   "cell_type": "code",
   "execution_count": null,
   "id": "dd9ac228",
   "metadata": {},
   "outputs": [],
   "source": [
    "import requests\n",
    "import pandas as pd"
   ]
  },
  {
   "cell_type": "code",
   "execution_count": null,
   "id": "3c590a5b",
   "metadata": {},
   "outputs": [],
   "source": [
    "df1 = pd.read_csv(\"apartment.csv\")\n",
    "df = df1[[\"lattitude\",\"longitude\"]]"
   ]
  },
  {
   "cell_type": "code",
   "execution_count": null,
   "id": "65123e79",
   "metadata": {},
   "outputs": [],
   "source": [
    "count=[]\n",
    "latitude=[]\n",
    "longitude=[]\n",
    "CafeList=[]\n",
    "latitude_from_csv= list(df['lattitude'])\n",
    "longitude_from_csv= list( df['longitude'])"
   ]
  },
  {
   "cell_type": "code",
   "execution_count": null,
   "id": "b79b326f",
   "metadata": {},
   "outputs": [],
   "source": [
    "url = \"https://api.foursquare.com/v3/places/search\""
   ]
  },
  {
   "cell_type": "code",
   "execution_count": null,
   "id": "c04bd306",
   "metadata": {},
   "outputs": [],
   "source": [
    "headers = {\n",
    "    \"Accept\": \"application/json\",\n",
    "    \"Authorization\": \"YOUR FOURSQUARE API ID\"\n",
    "}"
   ]
  },
  {
   "cell_type": "code",
   "execution_count": null,
   "id": "03af3c46",
   "metadata": {},
   "outputs": [],
   "source": [
    "for lat, lon in zip(latitude_from_csv, longitude_from_csv):\n",
    "    params = {\n",
    "        \"query\": \"cafe\",\n",
    "        \"ll\": f\"{lat},{lon}\",\n",
    "        \"radius\": \"1000\",\n",
    "        \"v\": \"20240101\"\n",
    "    }\n",
    "\n",
    "    # Make the API request\n",
    "    response = requests.get(url, params=params, headers=headers)\n",
    "    values = response.json()\n",
    "\n",
    "    latitude.append(lat)\n",
    "    longitude.append(lon)\n",
    "    # Append the results to the list\n",
    "    for result in values.get('results', []):\n",
    "        CafeList.append(result.get('name', 'Unknown'))\n",
    "    i=len(CafeList)\n",
    "    count.append(i)\n",
    "    CafeList=[]\n",
    "print(f\"Length Of lattitude :{len(latitude)}\")\n",
    "print(f\"Length Of longitude :{len(longitude)}\")\n",
    "print(f\"Length Of longitude :{len(count)}\")\n",
    "df0 = pd.DataFrame({'lattitude':latitude,'longitude':longitude,'Cafes': count})\n",
    "df0.to_csv('API Data/List.csv', index=False)"
   ]
  }
 ],
 "metadata": {
  "jupytext": {
   "cell_metadata_filter": "-all",
   "main_language": "python",
   "notebook_metadata_filter": "-all"
  }
 },
 "nbformat": 4,
 "nbformat_minor": 5
}
