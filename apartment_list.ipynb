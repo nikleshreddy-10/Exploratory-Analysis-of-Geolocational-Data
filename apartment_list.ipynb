{
 "cells": [
  {
   "cell_type": "code",
   "execution_count": null,
   "id": "87aaaa9f",
   "metadata": {},
   "outputs": [],
   "source": [
    "import requests\n",
    "import pandas as pd"
   ]
  },
  {
   "cell_type": "code",
   "execution_count": null,
   "id": "04879f19",
   "metadata": {},
   "outputs": [],
   "source": [
    "url = \"https://api.foursquare.com/v3/places/search\""
   ]
  },
  {
   "cell_type": "code",
   "execution_count": null,
   "id": "eef73092",
   "metadata": {},
   "outputs": [],
   "source": [
    "params = {\n",
    "    \"query\": \"apartment\",\n",
    "    \"ll\": \"17.493527,78.391525\",\n",
    "    \"radius\": \"7000\",\n",
    "    \"limit\": \"50\",\n",
    "    \"v\": \"20240101\"  # Specify version parameter as recommended by Foursquare\n",
    "}"
   ]
  },
  {
   "cell_type": "code",
   "execution_count": null,
   "id": "9ab181af",
   "metadata": {},
   "outputs": [],
   "source": [
    "headers = {\n",
    "    \"Accept\": \"application/json\",\n",
    "    \"Authorization\": \"YOUR FOURSQUARE API ID",\n",
    "}"
   ]
  },
  {
   "cell_type": "code",
   "execution_count": null,
   "id": "ca4eacc5",
   "metadata": {},
   "outputs": [],
   "source": [
    "response = requests.get(url, params=params, headers=headers)\n",
    "values = response.json()\n",
    "values['results']\n",
    "fsq_id = []\n",
    "lattitude = []\n",
    "longitude = []\n",
    "address = []\n",
    "name = []"
   ]
  },
  {
   "cell_type": "code",
   "execution_count": null,
   "id": "11c3f3e4",
   "metadata": {},
   "outputs": [],
   "source": [
    "for value in values['results']:\n",
    "  fsq_id.append(value['fsq_id'])\n",
    "  lattitude.append(value['geocodes']['main']['latitude'])\n",
    "  longitude.append(value['geocodes']['main']['longitude'])\n",
    "  address.append(value['location']['formatted_address'])\n",
    "  name.append(value['name'])"
   ]
  },
  {
   "cell_type": "code",
   "execution_count": null,
   "id": "d71cd5c0",
   "metadata": {},
   "outputs": [],
   "source": [
    "print(f\"Length Of fsq_id :{len(fsq_id)}\")\n",
    "print(f\"Length Of lattitude :{len(lattitude)}\")\n",
    "print(f\"Length Of longitude :{len(longitude)}\")\n",
    "print(f\"Length Of address :{len(address)}\")\n",
    "print(f\"Length Of name :{len(name)}\")"
   ]
  },
  {
   "cell_type": "code",
   "execution_count": null,
   "id": "663289c0",
   "metadata": {},
   "outputs": [],
   "source": []
  },
  {
   "cell_type": "code",
   "execution_count": null,
   "id": "d37522ee",
   "metadata": {},
   "outputs": [],
   "source": [
    "df = pd.DataFrame({'fsq_id':fsq_id,'lattitude':lattitude,'longitude':longitude,'address':address,'name':name})"
   ]
  },
  {
   "cell_type": "code",
   "execution_count": null,
   "id": "456ee2b0",
   "metadata": {},
   "outputs": [],
   "source": [
    "df.to_csv('apartment.csv', index=False)"
   ]
  }
 ],
 "metadata": {
  "jupytext": {
   "cell_metadata_filter": "-all",
   "main_language": "python",
   "notebook_metadata_filter": "-all"
  }
 },
 "nbformat": 4,
 "nbformat_minor": 5
}
