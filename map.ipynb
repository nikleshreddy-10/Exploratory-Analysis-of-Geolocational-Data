{
 "cells": [
  {
   "cell_type": "code",
   "execution_count": null,
   "id": "cb304f81",
   "metadata": {},
   "outputs": [],
   "source": [
    "import numpy as np\n",
    "import pandas as pd\n",
    "from sklearn.cluster import KMeans\n",
    "import folium"
   ]
  },
  {
   "cell_type": "code",
   "execution_count": null,
   "id": "16ed5602",
   "metadata": {},
   "outputs": [],
   "source": [
    "# Read the CSV file into a DataFrame\n",
    "df_final = pd.read_csv(\"List.csv\")"
   ]
  },
  {
   "cell_type": "code",
   "execution_count": null,
   "id": "5d5e6bdc",
   "metadata": {},
   "outputs": [],
   "source": [
    "# Ensure 'lattitude' and 'longitude' columns are present\n",
    "if 'lattitude' not in df_final.columns or 'longitude' not in df_final.columns:\n",
    "    raise ValueError(\"DataFrame must contain 'lattitude' and 'longitude' columns.\")"
   ]
  },
  {
   "cell_type": "code",
   "execution_count": null,
   "id": "11b63feb",
   "metadata": {},
   "outputs": [],
   "source": [
    "# Prepare data for clustering\n",
    "X = df_final[['lattitude', 'longitude']].values\n",
    "max_k = 5\n",
    "distortions = []"
   ]
  },
  {
   "cell_type": "code",
   "execution_count": null,
   "id": "f94259d4",
   "metadata": {},
   "outputs": [],
   "source": [
    "# Calculate distortions for different values of k\n",
    "for i in range(1, max_k + 1):\n",
    "    if len(X) >= i:\n",
    "        model = KMeans(n_clusters=i, init='k-means++', max_iter=300, n_init=10, random_state=0)\n",
    "        model.fit(X)\n",
    "        distortions.append(model.inertia_)"
   ]
  },
  {
   "cell_type": "code",
   "execution_count": null,
   "id": "1de34aed",
   "metadata": {},
   "outputs": [],
   "source": [
    "# Determine the best k using the \"elbow\" method\n",
    "if len(distortions) >= 3:\n",
    "    second_derivatives = np.diff(np.diff(distortions))\n",
    "    best_k_index = np.argmin(second_derivatives) + 2  # +2 due to diff reduction\n",
    "    best_k = best_k_index\n",
    "else:\n",
    "    best_k = 3  # Default value if not enough data"
   ]
  },
  {
   "cell_type": "code",
   "execution_count": null,
   "id": "a4ff0efc",
   "metadata": {},
   "outputs": [],
   "source": [
    "# Run K-means clustering on the latitude and longitude columns\n",
    "kmeans = KMeans(n_clusters=best_k, random_state=0).fit(X)\n",
    "df_final['Cluster'] = kmeans.labels_.astype(str)\n",
    "df_final.to_csv('List.csv', index=False)"
   ]
  },
  {
   "cell_type": "code",
   "execution_count": null,
   "id": "b9776582",
   "metadata": {
    "lines_to_next_cell": 1
   },
   "outputs": [],
   "source": [
    "# Define coordinates for the center of the map\n",
    "map_center = [17.493527, 78.391525]\n",
    "map_bom = folium.Map(location=map_center, zoom_start=12)"
   ]
  },
  {
   "cell_type": "code",
   "execution_count": null,
   "id": "b95639dc",
   "metadata": {
    "lines_to_next_cell": 1
   },
   "outputs": [],
   "source": [
    "# Define a color scheme for clusters\n",
    "def color_producer(cluster):\n",
    "    colors = ['orange', 'green', 'blue', 'red']  # Ensure there are enough colors for your clusters\n",
    "    return colors[int(cluster) % len(colors)]"
   ]
  },
  {
   "cell_type": "code",
   "execution_count": null,
   "id": "ad8cf943",
   "metadata": {},
   "outputs": [],
   "source": [
    "# Plotting clustered locations on the map\n",
    "for _, row in df_final.iterrows():\n",
    "    folium.CircleMarker(\n",
    "        location=[row['lattitude'], row['longitude']],\n",
    "        fill=True,\n",
    "        fill_opacity=1,\n",
    "        popup=folium.Popup(row['Cluster'], max_width=300),\n",
    "        radius=5,\n",
    "        color=color_producer(row['Cluster'])\n",
    "    ).add_to(map_bom)"
   ]
  },
  {
   "cell_type": "code",
   "execution_count": null,
   "id": "a8a2179e",
   "metadata": {},
   "outputs": [],
   "source": [
    "# Add a marker for JNTU\n",
    "folium.Marker(map_center, popup='JNTU').add_to(map_bom)"
   ]
  },
  {
   "cell_type": "code",
   "execution_count": null,
   "id": "2977ce28",
   "metadata": {},
   "outputs": [],
   "source": [
    "# Save the map to an HTML file\n",
    "map_bom.save(\"clustered_map.html\")"
   ]
  }
 ],
 "metadata": {
  "jupytext": {
   "cell_metadata_filter": "-all",
   "main_language": "python",
   "notebook_metadata_filter": "-all"
  }
 },
 "nbformat": 4,
 "nbformat_minor": 5
}
